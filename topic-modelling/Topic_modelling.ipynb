{
  "nbformat": 4,
  "nbformat_minor": 0,
  "metadata": {
    "colab": {
      "provenance": [],
      "authorship_tag": "ABX9TyP7KLuwxq7atzTAagS3qnc/",
      "include_colab_link": true
    },
    "kernelspec": {
      "name": "python3",
      "display_name": "Python 3"
    },
    "language_info": {
      "name": "python"
    }
  },
  "cells": [
    {
      "cell_type": "markdown",
      "metadata": {
        "id": "view-in-github",
        "colab_type": "text"
      },
      "source": [
        "<a href=\"https://colab.research.google.com/github/ummeamunira/NLP-LLM/blob/main/topic-modelling/Topic_modelling.ipynb\" target=\"_parent\"><img src=\"https://colab.research.google.com/assets/colab-badge.svg\" alt=\"Open In Colab\"/></a>"
      ]
    },
    {
      "cell_type": "code",
      "execution_count": 1,
      "metadata": {
        "colab": {
          "base_uri": "https://localhost:8080/"
        },
        "id": "WuczZiT8FvLz",
        "outputId": "f45f73a7-6dd4-4676-8a30-7489bdf69cb6"
      },
      "outputs": [
        {
          "output_type": "stream",
          "name": "stdout",
          "text": [
            "Topic #0:\n",
            "oil spill environmental causing damage\n",
            "Topic #1:\n",
            "maintenance pump requires station urgent\n",
            "Topic #2:\n",
            "detected pipeline main leak hazard\n"
          ]
        }
      ],
      "source": [
        "import pandas as pd\n",
        "from sklearn.feature_extraction.text import CountVectorizer\n",
        "from sklearn.decomposition import LatentDirichletAllocation\n",
        "\n",
        "# Sample data\n",
        "documents = [\n",
        "    \"Oil leak detected in the main pipeline.\",\n",
        "    \"Regular maintenance required for the pump.\",\n",
        "    \"Environmental issue due to oil spill.\",\n",
        "    \"Safety hazard in the drilling operation.\",\n",
        "    \"Pump station requires urgent maintenance.\",\n",
        "    \"Oil spill causing environmental damage.\",\n",
        "    \"Detected hazardous conditions in the pipeline.\",\n",
        "]\n",
        "\n",
        "# Vectorize the documents\n",
        "vectorizer = CountVectorizer(stop_words='english')\n",
        "doc_term_matrix = vectorizer.fit_transform(documents)\n",
        "\n",
        "# Train LDA model\n",
        "lda = LatentDirichletAllocation(n_components=3, random_state=42)\n",
        "lda.fit(doc_term_matrix)\n",
        "\n",
        "# Display the topics and their top words\n",
        "def display_topics(model, feature_names, num_top_words):\n",
        "    for topic_idx, topic in enumerate(model.components_):\n",
        "        print(f\"Topic #{topic_idx}:\")\n",
        "        print(\" \".join([feature_names[i] for i in topic.argsort()[:-num_top_words - 1:-1]]))\n",
        "\n",
        "num_top_words = 5\n",
        "feature_names = vectorizer.get_feature_names_out()\n",
        "display_topics(lda, feature_names, num_top_words)\n"
      ]
    },
    {
      "cell_type": "markdown",
      "source": [
        "The oil and gas industry generates vast amounts of textual data, including technical reports, maintenance logs, safety incident reports, research papers, and operational manuals. Understanding the main themes or topics within this data can be challenging due to the sheer volume and complexity. Topic modeling can be used to automatically identify and categorize these themes, aiding in better data organization, trend analysis, and decision-making.\n",
        "\n",
        "**Goal:**\n",
        "Apply topic modeling to a collection of maintenance logs and safety incident reports to identify the predominant topics. This can help in understanding common issues, identifying areas that need attention, and improving overall safety and maintenance practices."
      ],
      "metadata": {
        "id": "t_2XEoSJt7H2"
      }
    },
    {
      "cell_type": "markdown",
      "source": [
        "Data Collection:\n",
        "\n",
        "Collect a dataset of maintenance logs and safety incident reports. Assume we have a dataset in a CSV file with a column report containing the text data."
      ],
      "metadata": {
        "id": "7wjciOALt-7x"
      }
    },
    {
      "cell_type": "code",
      "source": [
        "import pandas as pd\n",
        "\n",
        "# Sample data\n",
        "data = {\n",
        "    'report': [\n",
        "        \"Detected an oil leak in the main pipeline.\",\n",
        "        \"Routine maintenance required for the offshore rig.\",\n",
        "        \"Environmental issue due to oil spill near the coast.\",\n",
        "        \"Incident report: Safety hazard during drilling operation.\",\n",
        "        \"Urgent maintenance needed for the pump station.\",\n",
        "        \"Oil spill causing significant environmental damage.\",\n",
        "        \"Detected hazardous conditions in the pipeline section.\",\n",
        "        \"Scheduled maintenance for the drilling equipment.\",\n",
        "        \"Safety incident: Gas leak detected in the refinery.\",\n",
        "        \"Maintenance report: Replacing worn-out valves in the pipeline.\"\n",
        "    ]\n",
        "}\n",
        "\n",
        "df = pd.DataFrame(data)\n"
      ],
      "metadata": {
        "id": "xJHoPpJ-u9jr"
      },
      "execution_count": 2,
      "outputs": []
    },
    {
      "cell_type": "markdown",
      "source": [
        "Data Preprocessing:\n",
        "\n",
        "Clean and preprocess the text data, including tokenization, removing stop words, and stemming/lemmatization."
      ],
      "metadata": {
        "id": "dKJQ_reMu2j1"
      }
    },
    {
      "cell_type": "code",
      "source": [
        "from sklearn.feature_extraction.text import CountVectorizer\n",
        "from sklearn.decomposition import LatentDirichletAllocation\n",
        "import nltk\n",
        "from nltk.corpus import stopwords\n",
        "import string\n",
        "\n",
        "# Download stopwords\n",
        "nltk.download('stopwords')\n",
        "stop_words = set(stopwords.words('english'))\n",
        "\n",
        "# Function to preprocess text\n",
        "def preprocess_text(text):\n",
        "    # Tokenize and remove punctuation\n",
        "    tokens = [word for word in text.lower().split() if word not in string.punctuation]\n",
        "    # Remove stopwords\n",
        "    tokens = [word for word in tokens if word not in stop_words]\n",
        "    return ' '.join(tokens)\n",
        "\n",
        "# Apply preprocessing\n",
        "df['cleaned_report'] = df['report'].apply(preprocess_text)\n"
      ],
      "metadata": {
        "colab": {
          "base_uri": "https://localhost:8080/"
        },
        "id": "HIEhrpzgvBPo",
        "outputId": "3ca6db46-010e-42e6-fe23-d35396b54b26"
      },
      "execution_count": 3,
      "outputs": [
        {
          "output_type": "stream",
          "name": "stderr",
          "text": [
            "[nltk_data] Downloading package stopwords to /root/nltk_data...\n",
            "[nltk_data]   Unzipping corpora/stopwords.zip.\n"
          ]
        }
      ]
    },
    {
      "cell_type": "markdown",
      "source": [
        "Applying Topic Modeling:\n",
        "\n",
        "Use Latent Dirichlet Allocation (LDA) to identify topics in the text data."
      ],
      "metadata": {
        "id": "xNUuux4du5dY"
      }
    },
    {
      "cell_type": "code",
      "source": [
        "# Vectorize the cleaned reports\n",
        "vectorizer = CountVectorizer()\n",
        "doc_term_matrix = vectorizer.fit_transform(df['cleaned_report'])\n",
        "\n",
        "# Apply LDA\n",
        "lda = LatentDirichletAllocation(n_components=3, random_state=42)\n",
        "lda.fit(doc_term_matrix)\n",
        "\n",
        "# Display the topics and their top words\n",
        "def display_topics(model, feature_names, num_top_words):\n",
        "    for topic_idx, topic in enumerate(model.components_):\n",
        "        print(f\"Topic #{topic_idx}:\")\n",
        "        print(\" \".join([feature_names[i] for i in topic.argsort()[:-num_top_words - 1:-1]]))\n",
        "\n",
        "num_top_words = 5\n",
        "feature_names = vectorizer.get_feature_names_out()\n",
        "display_topics(lda, feature_names, num_top_words)\n"
      ],
      "metadata": {
        "colab": {
          "base_uri": "https://localhost:8080/"
        },
        "id": "9n4wJrxfvKpb",
        "outputId": "66f976b0-9d1c-4c12-d3e8-130fb82db935"
      },
      "execution_count": 4,
      "outputs": [
        {
          "output_type": "stream",
          "name": "stdout",
          "text": [
            "Topic #0:\n",
            "detected oil pipeline causing significant\n",
            "Topic #1:\n",
            "maintenance drilling incident safety report\n",
            "Topic #2:\n",
            "leak environmental spill issue coast\n"
          ]
        }
      ]
    },
    {
      "cell_type": "markdown",
      "source": [
        "Analyzing and Interpreting Topics:\n",
        "\n",
        "Analyze the resulting topics by examining the top words in each topic and labeling them."
      ],
      "metadata": {
        "id": "b-oUuspZu7cz"
      }
    },
    {
      "cell_type": "markdown",
      "source": [
        "**Benefits of using topic modelling**\n",
        "\n",
        "Insight into Common Issues:\n",
        "\n",
        "Identify frequently occurring problems in maintenance logs and safety reports, helping to prioritize resources and address recurring issues.\n",
        "\n",
        "Improved Safety:\n",
        "\n",
        "Detect patterns in safety incidents, leading to better preventative measures and training programs.\n",
        "\n",
        "Efficient Data Management:\n",
        "\n",
        "Organize large volumes of unstructured text data into meaningful categories, making it easier to search, retrieve, and analyze information.\n",
        "\n",
        "Trend Analysis:\n",
        "\n",
        "Analyze trends over time to understand how certain issues evolve, aiding in strategic planning and operational improvements.\n",
        "\n",
        "Enhanced Decision-Making:\n",
        "\n",
        "Provide management with a clearer understanding of key areas that require attention, supporting data-driven decision-making."
      ],
      "metadata": {
        "id": "kbIkt-11vhe9"
      }
    },
    {
      "cell_type": "code",
      "source": [],
      "metadata": {
        "id": "tNJnKFoJvp57"
      },
      "execution_count": null,
      "outputs": []
    }
  ]
}