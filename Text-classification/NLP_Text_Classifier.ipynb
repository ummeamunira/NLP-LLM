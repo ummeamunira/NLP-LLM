{
  "nbformat": 4,
  "nbformat_minor": 0,
  "metadata": {
    "colab": {
      "provenance": [],
      "authorship_tag": "ABX9TyPRXrh1XdPG/QXfxHFQ6zmq",
      "include_colab_link": true
    },
    "kernelspec": {
      "name": "python3",
      "display_name": "Python 3"
    },
    "language_info": {
      "name": "python"
    }
  },
  "cells": [
    {
      "cell_type": "markdown",
      "metadata": {
        "id": "view-in-github",
        "colab_type": "text"
      },
      "source": [
        "<a href=\"https://colab.research.google.com/github/ummeamunira/NLP-LLM/blob/main/Text-classification/NLP_Text_Classifier.ipynb\" target=\"_parent\"><img src=\"https://colab.research.google.com/assets/colab-badge.svg\" alt=\"Open In Colab\"/></a>"
      ]
    },
    {
      "cell_type": "markdown",
      "source": [
        "We'll use popular libraries such as pandas for data handling, scikit-learn for machine learning, and Flask for deployment. The example will include steps for data reading, preprocessing, model training, hyperparameter tuning, and deployment.\n",
        "\n",
        "Assumptions:\n",
        "\n",
        "Incident reports are stored in a CSV file with two columns: report (the text of the incident report) and category (the label).\n",
        "\n",
        "The categories are \"Equipment Failure\", \"Safety Hazard\", \"Environmental Issue\", \"Maintenance Required\", and \"Other\"."
      ],
      "metadata": {
        "id": "9fVWtu-0YomR"
      }
    },
    {
      "cell_type": "code",
      "source": [
        "import pandas as pd\n",
        "\n",
        "# Sample data\n",
        "data = {\n",
        "    \"ID\": [1, 2, 3, 4, 5, 6, 7, 8, 9, 10, 11, 12, 13, 14, 15],\n",
        "    \"Date\": [\n",
        "        \"2024-01-15\", \"2024-02-10\", \"2024-03-05\", \"2024-01-20\", \"2024-02-14\",\n",
        "        \"2024-03-08\", \"2024-01-25\", \"2024-02-18\", \"2024-03-12\", \"2024-01-30\",\n",
        "        \"2024-02-22\", \"2024-03-15\", \"2024-01-28\", \"2024-02-25\", \"2024-03-18\"\n",
        "    ],\n",
        "    \"category\": [\n",
        "        \"Safety\", \"Safety\", \"Safety\", \"Equipment Failure\", \"Equipment Failure\",\n",
        "        \"Equipment Failure\", \"Environmental\", \"Environmental\", \"Environmental\",\n",
        "        \"Safety\", \"Equipment Failure\", \"Environmental\", \"Safety\", \"Equipment Failure\",\n",
        "        \"Environmental\"\n",
        "    ],\n",
        "    \"report\": [\n",
        "        \"Worker slipped on wet floor, minor injury reported.\",\n",
        "        \"Employee not wearing proper protective equipment, no injury.\",\n",
        "        \"Fall from ladder, major injury, hospitalization required.\",\n",
        "        \"Conveyor belt malfunctioned, production halted for 2 hours.\",\n",
        "        \"Generator breakdown caused power outage in section B.\",\n",
        "        \"Air compressor failure, minor impact on operations.\",\n",
        "        \"Oil spill in storage area, contained within 30 minutes.\",\n",
        "        \"Chemical leak detected in waste disposal unit, no external contamination reported.\",\n",
        "        \"Excessive smoke emissions from furnace stack, environmental team notified.\",\n",
        "        \"Forklift accident, operator bruised but no major injuries.\",\n",
        "        \"Hydraulic system failure in press machine, repairs took 4 hours.\",\n",
        "        \"Unauthorized waste disposal, regulatory authorities informed.\",\n",
        "        \"Minor burn injury due to contact with hot surface.\",\n",
        "        \"Conveyor motor overheating, maintenance required.\",\n",
        "        \"Minor spillage of coolant, cleaned up with no further issues.\"\n",
        "    ],\n",
        "    \"Severity\": [\n",
        "        \"Low\", \"Medium\", \"High\", \"Medium\", \"High\",\n",
        "        \"Low\", \"Medium\", \"Low\", \"High\",\n",
        "        \"Medium\", \"High\", \"High\", \"Low\", \"Medium\", \"Low\"\n",
        "    ]\n",
        "}\n",
        "\n",
        "# Create DataFrame\n",
        "df = pd.DataFrame(data)\n",
        "\n",
        "# Save DataFrame to CSV\n",
        "df.to_csv('incident_report.csv', index=False)\n",
        "\n",
        "print(\"CSV file saved successfully.\")\n"
      ],
      "metadata": {
        "colab": {
          "base_uri": "https://localhost:8080/"
        },
        "id": "9JKAz4PfSAKf",
        "outputId": "72e01fa5-8db5-4f10-d75c-a147d56387bf"
      },
      "execution_count": null,
      "outputs": [
        {
          "output_type": "stream",
          "name": "stdout",
          "text": [
            "CSV file saved successfully.\n"
          ]
        }
      ]
    },
    {
      "cell_type": "code",
      "execution_count": null,
      "metadata": {
        "colab": {
          "base_uri": "https://localhost:8080/"
        },
        "id": "A4ldtkfZYdgz",
        "outputId": "f55a696e-b832-4c54-d2d1-3ad1bd841f3b"
      },
      "outputs": [
        {
          "output_type": "stream",
          "name": "stdout",
          "text": [
            "   IncidentID        Date           Location  \\\n",
            "0           1  2023-05-01        Warehouse 1   \n",
            "1           2  2023-05-03  Production Line 2   \n",
            "2           3  2023-05-05        Warehouse 2   \n",
            "3           4  2023-05-07             Office   \n",
            "4           5  2023-05-10  Production Line 1   \n",
            "\n",
            "                                              report    category  \n",
            "0         Worker slipped and fell due to a wet floor      Safety  \n",
            "1       Machine malfunction caused a production halt   Equipment  \n",
            "2       Fire alarm triggered due to electrical fault      Safety  \n",
            "3  Employee experienced a minor electric shock wh...  Electrical  \n",
            "4      Worker injured hand while operating machinery      Safety  \n"
          ]
        }
      ],
      "source": [
        "import pandas as pd\n",
        "\n",
        "# Read the data\n",
        "data = pd.read_csv('incident_reports.csv')\n",
        "print(data.head())\n"
      ]
    },
    {
      "cell_type": "code",
      "source": [
        "from sklearn.model_selection import train_test_split\n",
        "from sklearn.feature_extraction.text import TfidfVectorizer\n",
        "from sklearn.preprocessing import LabelEncoder\n",
        "from sklearn.pipeline import Pipeline\n",
        "from sklearn.compose import ColumnTransformer\n",
        "from sklearn.impute import SimpleImputer\n",
        "\n",
        "# Split the data into training and testing sets\n",
        "X = data['report']\n",
        "y = data['category']\n",
        "\n",
        "# Encode the labels\n",
        "label_encoder = LabelEncoder()\n",
        "y = label_encoder.fit_transform(y)\n",
        "\n",
        "# Split into train and test sets\n",
        "X_train, X_test, y_train, y_test = train_test_split(X, y, test_size=0.2, random_state=42, stratify=y)\n"
      ],
      "metadata": {
        "id": "kx6H3jbKYwBN"
      },
      "execution_count": null,
      "outputs": []
    },
    {
      "cell_type": "code",
      "source": [
        "y_train"
      ],
      "metadata": {
        "colab": {
          "base_uri": "https://localhost:8080/"
        },
        "id": "SWgpDHkvUE-o",
        "outputId": "83746191-656d-4f8b-df63-bb2dd77abe67"
      },
      "execution_count": null,
      "outputs": [
        {
          "output_type": "execute_result",
          "data": {
            "text/plain": [
              "array([0, 1, 2, 0, 2, 1, 0, 2, 2, 0, 1, 1])"
            ]
          },
          "metadata": {},
          "execution_count": 18
        }
      ]
    },
    {
      "cell_type": "code",
      "source": [
        "from sklearn.linear_model import LogisticRegression\n",
        "from sklearn.model_selection import GridSearchCV\n",
        "from sklearn.metrics import classification_report\n",
        "\n",
        "# Define a pipeline combining a text feature extractor with a classifier\n",
        "pipeline = Pipeline([\n",
        "    ('tfidf', TfidfVectorizer(stop_words='english')),\n",
        "    ('clf', LogisticRegression(solver='liblinear'))\n",
        "])\n",
        "\n",
        "# Define hyperparameters for tuning\n",
        "param_grid = {\n",
        "    'tfidf__max_df': [0.75, 1.0],\n",
        "    'tfidf__ngram_range': [(1, 1), (1, 2)],\n",
        "    'clf__C': [0.1, 1, 10]\n",
        "}\n",
        "\n",
        "# Perform grid search with cross-validation\n",
        "grid_search = GridSearchCV(pipeline, param_grid, cv=3, n_jobs=-1, verbose=1)\n",
        "grid_search.fit(X_train, y_train)\n",
        "\n",
        "# Print the best parameters and best score\n",
        "print(f\"Best parameters: {grid_search.best_params_}\")\n",
        "print(f\"Best cross-validation score: {grid_search.best_score_}\")\n",
        "\n",
        "# Evaluate on test set\n",
        "y_pred = grid_search.predict(X_test)\n",
        "print(classification_report(y_test, y_pred, target_names=label_encoder.classes_))\n"
      ],
      "metadata": {
        "colab": {
          "base_uri": "https://localhost:8080/"
        },
        "id": "NCOSoyNUY8xf",
        "outputId": "c03db835-dca5-4c7f-cdb1-fabe35b5d84f"
      },
      "execution_count": null,
      "outputs": [
        {
          "output_type": "stream",
          "name": "stdout",
          "text": [
            "Fitting 3 folds for each of 12 candidates, totalling 36 fits\n",
            "Best parameters: {'clf__C': 10, 'tfidf__max_df': 0.75, 'tfidf__ngram_range': (1, 1)}\n",
            "Best cross-validation score: 0.5833333333333334\n",
            "                   precision    recall  f1-score   support\n",
            "\n",
            "    Environmental       1.00      1.00      1.00         1\n",
            "Equipment Failure       1.00      1.00      1.00         1\n",
            "           Safety       1.00      1.00      1.00         1\n",
            "\n",
            "         accuracy                           1.00         3\n",
            "        macro avg       1.00      1.00      1.00         3\n",
            "     weighted avg       1.00      1.00      1.00         3\n",
            "\n"
          ]
        }
      ]
    },
    {
      "cell_type": "markdown",
      "source": [
        "Model Deployment with Flask"
      ],
      "metadata": {
        "id": "OJ5YUchxZEUh"
      }
    },
    {
      "cell_type": "code",
      "source": [
        "from flask import Flask, request, jsonify\n",
        "\n",
        "app = Flask(__name__)\n",
        "\n",
        "# Use the best model from the grid search\n",
        "model = grid_search.best_estimator_\n",
        "\n",
        "@app.route('/predict', methods=['POST'])\n",
        "def predict():\n",
        "    data = request.get_json(force=True)\n",
        "    report = data['report']\n",
        "    prediction = model.predict([report])\n",
        "    predicted_category = label_encoder.inverse_transform(prediction)[0]\n",
        "    return jsonify({'category': predicted_category})\n",
        "\n",
        "if __name__ == '__main__':\n",
        "    app.run(debug=True)\n"
      ],
      "metadata": {
        "colab": {
          "base_uri": "https://localhost:8080/"
        },
        "id": "WIug5YHdZGRf",
        "outputId": "3a2c3085-6db8-48cc-d413-d92fb17e4aa6"
      },
      "execution_count": null,
      "outputs": [
        {
          "output_type": "stream",
          "name": "stdout",
          "text": [
            " * Serving Flask app '__main__'\n",
            " * Debug mode: on\n"
          ]
        },
        {
          "output_type": "stream",
          "name": "stderr",
          "text": [
            "INFO:werkzeug:\u001b[31m\u001b[1mWARNING: This is a development server. Do not use it in a production deployment. Use a production WSGI server instead.\u001b[0m\n",
            " * Running on http://127.0.0.1:5000\n",
            "INFO:werkzeug:\u001b[33mPress CTRL+C to quit\u001b[0m\n",
            "INFO:werkzeug: * Restarting with stat\n"
          ]
        }
      ]
    },
    {
      "cell_type": "markdown",
      "source": [
        "Save and Load the Model"
      ],
      "metadata": {
        "id": "zN5zK6BiZIg4"
      }
    },
    {
      "cell_type": "code",
      "source": [
        "import joblib\n",
        "\n",
        "# Save the model and label encoder\n",
        "joblib.dump(grid_search.best_estimator_, 'incident_classifier_model.pkl')\n",
        "joblib.dump(label_encoder, 'label_encoder.pkl')\n"
      ],
      "metadata": {
        "colab": {
          "base_uri": "https://localhost:8080/"
        },
        "id": "N7RGwYjtZLfs",
        "outputId": "9e744d90-4fe0-4b1b-a019-077d971cb0df"
      },
      "execution_count": null,
      "outputs": [
        {
          "output_type": "execute_result",
          "data": {
            "text/plain": [
              "['label_encoder.pkl']"
            ]
          },
          "metadata": {},
          "execution_count": 15
        }
      ]
    },
    {
      "cell_type": "markdown",
      "source": [
        "Loading the Model in Flask\n",
        "\n",
        "Modify the Flask application to load the saved model and label encoder."
      ],
      "metadata": {
        "id": "pRDjmHkQZPBC"
      }
    },
    {
      "cell_type": "code",
      "source": [
        "from flask import Flask, request, jsonify\n",
        "import joblib\n",
        "\n",
        "app = Flask(__name__)\n",
        "\n",
        "# Load the model and label encoder\n",
        "model = joblib.load('incident_classifier_model.pkl')\n",
        "label_encoder = joblib.load('label_encoder.pkl')\n",
        "\n",
        "@app.route('/predict', methods=['POST'])\n",
        "def predict():\n",
        "    data = request.get_json(force=True)\n",
        "    report = data['report']\n",
        "    prediction = model.predict([report])\n",
        "    predicted_category = label_encoder.inverse_transform(prediction)[0]\n",
        "    return jsonify({'category': predicted_category})\n",
        "\n",
        "if __name__ == '__main__':\n",
        "    app.run(debug=True)\n"
      ],
      "metadata": {
        "colab": {
          "base_uri": "https://localhost:8080/"
        },
        "id": "iWhVKNLsZRBV",
        "outputId": "59616a0e-1cd0-48ec-91c4-a3dcd7a6821e"
      },
      "execution_count": null,
      "outputs": [
        {
          "output_type": "stream",
          "name": "stdout",
          "text": [
            " * Serving Flask app '__main__'\n",
            " * Debug mode: on\n"
          ]
        },
        {
          "output_type": "stream",
          "name": "stderr",
          "text": [
            "INFO:werkzeug:\u001b[31m\u001b[1mWARNING: This is a development server. Do not use it in a production deployment. Use a production WSGI server instead.\u001b[0m\n",
            " * Running on http://127.0.0.1:5000\n",
            "INFO:werkzeug:\u001b[33mPress CTRL+C to quit\u001b[0m\n",
            "INFO:werkzeug: * Restarting with stat\n"
          ]
        }
      ]
    },
    {
      "cell_type": "markdown",
      "source": [
        "Running the Flask Application\n",
        "\n",
        "To run the Flask application, execute the script:"
      ],
      "metadata": {
        "id": "ts8_fJuMZUjU"
      }
    },
    {
      "cell_type": "code",
      "source": [
        "python app.py\n"
      ],
      "metadata": {
        "id": "Gnu1NpVvZXx8"
      },
      "execution_count": null,
      "outputs": []
    },
    {
      "cell_type": "markdown",
      "source": [
        "You can then send POST requests with incident reports to the /predict endpoint to get classifications.\n",
        "\n",
        "Example POST Request\n",
        "\n",
        "Using curl or a tool like Postman, send a request to the Flask app:"
      ],
      "metadata": {
        "id": "xsWa_w-LZeDg"
      }
    },
    {
      "cell_type": "code",
      "source": [
        "curl -X POST -H \"Content-Type: application/json\" -d '{\"report\": \"Oil leak detected in pump station\"}' http://127.0.0.1:5000/predict\n"
      ],
      "metadata": {
        "id": "GS06RTtFZfyN"
      },
      "execution_count": null,
      "outputs": []
    }
  ]
}