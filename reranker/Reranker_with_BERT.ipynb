{
  "nbformat": 4,
  "nbformat_minor": 0,
  "metadata": {
    "colab": {
      "provenance": [],
      "authorship_tag": "ABX9TyPtJBYJ4mHySzxQ7oClSZiT",
      "include_colab_link": true
    },
    "kernelspec": {
      "name": "python3",
      "display_name": "Python 3"
    },
    "language_info": {
      "name": "python"
    }
  },
  "cells": [
    {
      "cell_type": "markdown",
      "metadata": {
        "id": "view-in-github",
        "colab_type": "text"
      },
      "source": [
        "<a href=\"https://colab.research.google.com/github/ummeamunira/NLP-LLM/blob/main/reranker/Reranker_with_BERT.ipynb\" target=\"_parent\"><img src=\"https://colab.research.google.com/assets/colab-badge.svg\" alt=\"Open In Colab\"/></a>"
      ]
    },
    {
      "cell_type": "code",
      "source": [
        "from transformers import BertTokenizer, BertForSequenceClassification\n",
        "from torch.utils.data import DataLoader, TensorDataset\n",
        "import torch\n",
        "\n",
        "# Load pretrained BERT tokenizer and model\n",
        "tokenizer = BertTokenizer.from_pretrained('bert-base-uncased')\n",
        "model = BertForSequenceClassification.from_pretrained('bert-base-uncased')\n",
        "\n",
        "# Example data: list of query-document pairs\n",
        "queries = [\"oil leak detection\"]\n",
        "documents = [\"Detected an oil leak in the main pipeline.\", \"Regular maintenance required for the pump.\", \"Environmental issue due to oil spill.\"]\n",
        "\n",
        "# Tokenize and encode the query-document pairs\n",
        "inputs = tokenizer(queries * len(documents), documents, padding=True, truncation=True, return_tensors=\"pt\")\n",
        "labels = torch.tensor([1, 0, 1])  # Example relevance labels"
      ],
      "metadata": {
        "colab": {
          "base_uri": "https://localhost:8080/"
        },
        "id": "G5dkXPuE-CMY",
        "outputId": "b1cbb54f-fa6e-485a-cb2a-16e77739a798"
      },
      "execution_count": 2,
      "outputs": [
        {
          "output_type": "stream",
          "name": "stderr",
          "text": [
            "Some weights of BertForSequenceClassification were not initialized from the model checkpoint at bert-base-uncased and are newly initialized: ['classifier.bias', 'classifier.weight']\n",
            "You should probably TRAIN this model on a down-stream task to be able to use it for predictions and inference.\n"
          ]
        }
      ]
    },
    {
      "cell_type": "code",
      "source": [
        "labels"
      ],
      "metadata": {
        "colab": {
          "base_uri": "https://localhost:8080/"
        },
        "id": "sE3JcLGk-7dF",
        "outputId": "0b29608a-9ad2-4c02-c73d-ecdbb5432ff0"
      },
      "execution_count": 4,
      "outputs": [
        {
          "output_type": "execute_result",
          "data": {
            "text/plain": [
              "tensor([1, 0, 1])"
            ]
          },
          "metadata": {},
          "execution_count": 4
        }
      ]
    },
    {
      "cell_type": "code",
      "execution_count": 5,
      "metadata": {
        "colab": {
          "base_uri": "https://localhost:8080/"
        },
        "id": "MFC2KyS_9dN9",
        "outputId": "726080b8-3d6f-4148-f9d8-303c0ec92424"
      },
      "outputs": [
        {
          "output_type": "stream",
          "name": "stdout",
          "text": [
            "['Detected an oil leak in the main pipeline.', 'Regular maintenance required for the pump.', 'Environmental issue due to oil spill.']\n"
          ]
        }
      ],
      "source": [
        "\n",
        "\n",
        "# Create DataLoader\n",
        "dataset = TensorDataset(inputs['input_ids'], inputs['attention_mask'], labels)\n",
        "dataloader = DataLoader(dataset, batch_size=2)\n",
        "\n",
        "# Train the model (simplified)\n",
        "optimizer = torch.optim.Adam(model.parameters(), lr=2e-5)\n",
        "model.train()\n",
        "for batch in dataloader:\n",
        "    input_ids, attention_mask, labels = batch\n",
        "    optimizer.zero_grad()\n",
        "    outputs = model(input_ids, attention_mask=attention_mask, labels=labels)\n",
        "    loss = outputs.loss\n",
        "    loss.backward()\n",
        "    optimizer.step()\n",
        "\n",
        "# Use the model to rerank documents\n",
        "model.eval()\n",
        "with torch.no_grad():\n",
        "    outputs = model(**inputs)\n",
        "    scores = outputs.logits\n",
        "\n",
        "# Print reranked documents based on scores\n",
        "reranked_indices = scores[:, 1].argsort(descending=True)\n",
        "reranked_documents = [documents[i] for i in reranked_indices]\n",
        "print(reranked_documents)\n"
      ]
    },
    {
      "cell_type": "code",
      "source": [],
      "metadata": {
        "id": "A_PCAW-n-Bb7"
      },
      "execution_count": null,
      "outputs": []
    }
  ]
}