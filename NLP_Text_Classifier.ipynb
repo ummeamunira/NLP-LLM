{
  "nbformat": 4,
  "nbformat_minor": 0,
  "metadata": {
    "colab": {
      "provenance": [],
      "authorship_tag": "ABX9TyOXJEM1KCRe5WmammqyWMOQ",
      "include_colab_link": true
    },
    "kernelspec": {
      "name": "python3",
      "display_name": "Python 3"
    },
    "language_info": {
      "name": "python"
    }
  },
  "cells": [
    {
      "cell_type": "markdown",
      "metadata": {
        "id": "view-in-github",
        "colab_type": "text"
      },
      "source": [
        "<a href=\"https://colab.research.google.com/github/ummeamunira/llm-text-classifier/blob/main/NLP_Text_Classifier.ipynb\" target=\"_parent\"><img src=\"https://colab.research.google.com/assets/colab-badge.svg\" alt=\"Open In Colab\"/></a>"
      ]
    },
    {
      "cell_type": "markdown",
      "source": [
        "We'll use popular libraries such as pandas for data handling, scikit-learn for machine learning, and Flask for deployment. The example will include steps for data reading, preprocessing, model training, hyperparameter tuning, and deployment.\n",
        "\n",
        "Assumptions:\n",
        "\n",
        "Incident reports are stored in a CSV file with two columns: report (the text of the incident report) and category (the label).\n",
        "\n",
        "The categories are \"Equipment Failure\", \"Safety Hazard\", \"Environmental Issue\", \"Maintenance Required\", and \"Other\"."
      ],
      "metadata": {
        "id": "9fVWtu-0YomR"
      }
    },
    {
      "cell_type": "code",
      "execution_count": null,
      "metadata": {
        "id": "A4ldtkfZYdgz"
      },
      "outputs": [],
      "source": [
        "import pandas as pd\n",
        "\n",
        "# Read the data\n",
        "data = pd.read_csv('incident_reports.csv')\n",
        "print(data.head())\n"
      ]
    },
    {
      "cell_type": "code",
      "source": [
        "from sklearn.model_selection import train_test_split\n",
        "from sklearn.feature_extraction.text import TfidfVectorizer\n",
        "from sklearn.preprocessing import LabelEncoder\n",
        "from sklearn.pipeline import Pipeline\n",
        "from sklearn.compose import ColumnTransformer\n",
        "from sklearn.impute import SimpleImputer\n",
        "\n",
        "# Split the data into training and testing sets\n",
        "X = data['report']\n",
        "y = data['category']\n",
        "\n",
        "# Encode the labels\n",
        "label_encoder = LabelEncoder()\n",
        "y = label_encoder.fit_transform(y)\n",
        "\n",
        "# Split into train and test sets\n",
        "X_train, X_test, y_train, y_test = train_test_split(X, y, test_size=0.2, random_state=42, stratify=y)\n"
      ],
      "metadata": {
        "id": "kx6H3jbKYwBN"
      },
      "execution_count": null,
      "outputs": []
    },
    {
      "cell_type": "code",
      "source": [
        "from sklearn.linear_model import LogisticRegression\n",
        "from sklearn.model_selection import GridSearchCV\n",
        "from sklearn.metrics import classification_report\n",
        "\n",
        "# Define a pipeline combining a text feature extractor with a classifier\n",
        "pipeline = Pipeline([\n",
        "    ('tfidf', TfidfVectorizer(stop_words='english')),\n",
        "    ('clf', LogisticRegression(solver='liblinear'))\n",
        "])\n",
        "\n",
        "# Define hyperparameters for tuning\n",
        "param_grid = {\n",
        "    'tfidf__max_df': [0.75, 1.0],\n",
        "    'tfidf__ngram_range': [(1, 1), (1, 2)],\n",
        "    'clf__C': [0.1, 1, 10]\n",
        "}\n",
        "\n",
        "# Perform grid search with cross-validation\n",
        "grid_search = GridSearchCV(pipeline, param_grid, cv=5, n_jobs=-1, verbose=1)\n",
        "grid_search.fit(X_train, y_train)\n",
        "\n",
        "# Print the best parameters and best score\n",
        "print(f\"Best parameters: {grid_search.best_params_}\")\n",
        "print(f\"Best cross-validation score: {grid_search.best_score_}\")\n",
        "\n",
        "# Evaluate on test set\n",
        "y_pred = grid_search.predict(X_test)\n",
        "print(classification_report(y_test, y_pred, target_names=label_encoder.classes_))\n"
      ],
      "metadata": {
        "id": "NCOSoyNUY8xf"
      },
      "execution_count": null,
      "outputs": []
    },
    {
      "cell_type": "markdown",
      "source": [
        "Model Deployment with Flask"
      ],
      "metadata": {
        "id": "OJ5YUchxZEUh"
      }
    },
    {
      "cell_type": "code",
      "source": [
        "from flask import Flask, request, jsonify\n",
        "\n",
        "app = Flask(__name__)\n",
        "\n",
        "# Use the best model from the grid search\n",
        "model = grid_search.best_estimator_\n",
        "\n",
        "@app.route('/predict', methods=['POST'])\n",
        "def predict():\n",
        "    data = request.get_json(force=True)\n",
        "    report = data['report']\n",
        "    prediction = model.predict([report])\n",
        "    predicted_category = label_encoder.inverse_transform(prediction)[0]\n",
        "    return jsonify({'category': predicted_category})\n",
        "\n",
        "if __name__ == '__main__':\n",
        "    app.run(debug=True)\n"
      ],
      "metadata": {
        "id": "WIug5YHdZGRf"
      },
      "execution_count": null,
      "outputs": []
    },
    {
      "cell_type": "markdown",
      "source": [
        "Save and Load the Model"
      ],
      "metadata": {
        "id": "zN5zK6BiZIg4"
      }
    },
    {
      "cell_type": "code",
      "source": [
        "import joblib\n",
        "\n",
        "# Save the model and label encoder\n",
        "joblib.dump(grid_search.best_estimator_, 'incident_classifier_model.pkl')\n",
        "joblib.dump(label_encoder, 'label_encoder.pkl')\n"
      ],
      "metadata": {
        "id": "N7RGwYjtZLfs"
      },
      "execution_count": null,
      "outputs": []
    },
    {
      "cell_type": "markdown",
      "source": [
        "Loading the Model in Flask\n",
        "\n",
        "Modify the Flask application to load the saved model and label encoder."
      ],
      "metadata": {
        "id": "pRDjmHkQZPBC"
      }
    },
    {
      "cell_type": "code",
      "source": [
        "from flask import Flask, request, jsonify\n",
        "import joblib\n",
        "\n",
        "app = Flask(__name__)\n",
        "\n",
        "# Load the model and label encoder\n",
        "model = joblib.load('incident_classifier_model.pkl')\n",
        "label_encoder = joblib.load('label_encoder.pkl')\n",
        "\n",
        "@app.route('/predict', methods=['POST'])\n",
        "def predict():\n",
        "    data = request.get_json(force=True)\n",
        "    report = data['report']\n",
        "    prediction = model.predict([report])\n",
        "    predicted_category = label_encoder.inverse_transform(prediction)[0]\n",
        "    return jsonify({'category': predicted_category})\n",
        "\n",
        "if __name__ == '__main__':\n",
        "    app.run(debug=True)\n"
      ],
      "metadata": {
        "id": "iWhVKNLsZRBV"
      },
      "execution_count": null,
      "outputs": []
    },
    {
      "cell_type": "markdown",
      "source": [
        "Running the Flask Application\n",
        "\n",
        "To run the Flask application, execute the script:"
      ],
      "metadata": {
        "id": "ts8_fJuMZUjU"
      }
    },
    {
      "cell_type": "code",
      "source": [
        "python app.py\n"
      ],
      "metadata": {
        "id": "Gnu1NpVvZXx8"
      },
      "execution_count": null,
      "outputs": []
    },
    {
      "cell_type": "markdown",
      "source": [
        "You can then send POST requests with incident reports to the /predict endpoint to get classifications.\n",
        "\n",
        "Example POST Request\n",
        "\n",
        "Using curl or a tool like Postman, send a request to the Flask app:"
      ],
      "metadata": {
        "id": "xsWa_w-LZeDg"
      }
    },
    {
      "cell_type": "code",
      "source": [
        "curl -X POST -H \"Content-Type: application/json\" -d '{\"report\": \"Oil leak detected in pump station\"}' http://127.0.0.1:5000/predict\n"
      ],
      "metadata": {
        "id": "GS06RTtFZfyN"
      },
      "execution_count": null,
      "outputs": []
    }
  ]
}